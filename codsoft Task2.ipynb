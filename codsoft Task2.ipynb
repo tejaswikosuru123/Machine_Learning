{
 "cells": [
  {
   "cell_type": "code",
   "execution_count": 36,
   "id": "f2b54e2a",
   "metadata": {},
   "outputs": [],
   "source": [
    "import pandas as pd\n",
    "from sklearn.feature_extraction.text import TfidfVectorizer\n",
    "from sklearn.naive_bayes import MultinomialNB\n",
    "from sklearn.linear_model import LogisticRegression\n",
    "from sklearn.svm import SVC\n",
    "from sklearn.metrics import accuracy_score\n",
    "from sklearn.model_selection import train_test_split\n",
    "from sklearn.preprocessing import LabelEncoder\n",
    "\n",
    "# Now you can use the LabelEncoder class\n",
    "label_encoder = LabelEncoder()\n",
    "\n"
   ]
  },
  {
   "cell_type": "code",
   "execution_count": 37,
   "id": "7e932ee0",
   "metadata": {},
   "outputs": [],
   "source": [
    "# Load the dataset\n",
    "train_csv_file_path = \"C:\\\\Users\\\\ADMIN\\\\Documents\\\\fraudTest.csv\"\n",
    "test_csv_file_path = \"C:\\\\Users\\\\ADMIN\\\\Documents\\\\fraudTrain.csv\"\n",
    "\n",
    "\n",
    "\n"
   ]
  },
  {
   "cell_type": "code",
   "execution_count": 38,
   "id": "5f841ca9",
   "metadata": {},
   "outputs": [],
   "source": [
    "train_df = pd.read_csv(train_csv_file_path)\n",
    "test_df = pd.read_csv(test_csv_file_path)\n",
    "\n"
   ]
  },
  {
   "cell_type": "code",
   "execution_count": 39,
   "id": "47ea7087",
   "metadata": {},
   "outputs": [
    {
     "name": "stdout",
     "output_type": "stream",
     "text": [
      "Index(['Unnamed: 0', 'trans_date_trans_time', 'cc_num', 'merchant', 'category',\n",
      "       'amt', 'first', 'last', 'gender', 'street', 'city', 'state', 'zip',\n",
      "       'lat', 'long', 'city_pop', 'job', 'dob', 'trans_num', 'unix_time',\n",
      "       'merch_lat', 'merch_long', 'is_fraud'],\n",
      "      dtype='object')\n"
     ]
    }
   ],
   "source": [
    "print(train_df.columns)"
   ]
  },
  {
   "cell_type": "code",
   "execution_count": 40,
   "id": "6164d3cb",
   "metadata": {},
   "outputs": [
    {
     "name": "stdout",
     "output_type": "stream",
     "text": [
      "Index(['Unnamed: 0', 'trans_date_trans_time', 'cc_num', 'merchant', 'category',\n",
      "       'amt', 'first', 'last', 'gender', 'street', 'city', 'state', 'zip',\n",
      "       'lat', 'long', 'city_pop', 'job', 'dob', 'trans_num', 'unix_time',\n",
      "       'merch_lat', 'merch_long', 'is_fraud'],\n",
      "      dtype='object')\n"
     ]
    }
   ],
   "source": [
    "print(test_df.columns)"
   ]
  },
  {
   "cell_type": "code",
   "execution_count": 41,
   "id": "447313aa",
   "metadata": {},
   "outputs": [],
   "source": [
    "# Compare columns and identify any discrepancies\n",
    "train_columns = set(train_df.columns)\n",
    "test_columns = set(test_df.columns)\n",
    "missing_columns_in_train = test_columns - train_columns\n",
    "missing_columns_in_test = train_columns - test_columns"
   ]
  },
  {
   "cell_type": "code",
   "execution_count": 42,
   "id": "e7985d3c",
   "metadata": {},
   "outputs": [
    {
     "name": "stdout",
     "output_type": "stream",
     "text": [
      "\n",
      "Columns missing in train_df: set()\n",
      "Columns missing in test_df: set()\n"
     ]
    }
   ],
   "source": [
    "print(\"\\nColumns missing in train_df:\", missing_columns_in_train)\n",
    "print(\"Columns missing in test_df:\", missing_columns_in_test)\n"
   ]
  },
  {
   "cell_type": "code",
   "execution_count": 43,
   "id": "c9b98d53",
   "metadata": {},
   "outputs": [
    {
     "name": "stdout",
     "output_type": "stream",
     "text": [
      "Index(['Unnamed: 0', 'trans_date_trans_time', 'cc_num', 'merchant', 'category',\n",
      "       'amt', 'first', 'last', 'gender', 'street', 'city', 'state', 'zip',\n",
      "       'lat', 'long', 'city_pop', 'job', 'dob', 'trans_num', 'unix_time',\n",
      "       'merch_lat', 'merch_long', 'is_fraud'],\n",
      "      dtype='object')\n"
     ]
    }
   ],
   "source": [
    "print(test_df.columns)"
   ]
  },
  {
   "cell_type": "code",
   "execution_count": 44,
   "id": "6a8e71e6",
   "metadata": {},
   "outputs": [],
   "source": [
    "\n",
    "missing_columns_in_train = test_df.columns.difference(train_df.columns)\n",
    "missing_columns_in_test = train_df.columns.difference(test_df.columns)\n"
   ]
  },
  {
   "cell_type": "code",
   "execution_count": 45,
   "id": "db866b05",
   "metadata": {},
   "outputs": [],
   "source": [
    "# Add missing columns with zeros to the respective dataframes\n",
    "for column in missing_columns_in_train:\n",
    "    train_df[column] = 0\n",
    "\n",
    "for column in missing_columns_in_test:\n",
    "    test_df[column] = 0"
   ]
  },
  {
   "cell_type": "code",
   "execution_count": 46,
   "id": "3259f7c9",
   "metadata": {},
   "outputs": [],
   "source": [
    "# Reorder columns to ensure consistency\n",
    "train_df = train_df[test_df.columns]"
   ]
  },
  {
   "cell_type": "code",
   "execution_count": 47,
   "id": "dc3b7a8f",
   "metadata": {},
   "outputs": [],
   "source": [
    "# Apply preprocessing steps for categorical columns\n",
    "categorical_columns = ['trans_date_trans_time', 'cc_num', 'amt', 'first', 'last',\n",
    "                         'zip', 'lat', 'long', 'city_pop', ]"
   ]
  },
  {
   "cell_type": "code",
   "execution_count": 48,
   "id": "4af693d9",
   "metadata": {
    "scrolled": true
   },
   "outputs": [],
   "source": [
    "# Apply Label Encoding to categorical columns\n",
    "for column in categorical_columns:\n",
    "    le = LabelEncoder()\n",
    "    le.fit(pd.concat([train_df[column], test_df[column]]))\n",
    "    train_df[column] = le.transform(train_df[column])\n",
    "    test_df[column] = le.transform(test_df[column])"
   ]
  },
  {
   "cell_type": "code",
   "execution_count": 49,
   "id": "de2d1088",
   "metadata": {},
   "outputs": [],
   "source": [
    "# Numeric columns (no preprocessing required)\n",
    "numeric_columns = ['amt', 'lat', 'long', 'city_pop', 'unix_time', 'is_fraud']\n"
   ]
  },
  {
   "cell_type": "code",
   "execution_count": 50,
   "id": "a0f0f035",
   "metadata": {},
   "outputs": [],
   "source": [
    "# Splitting the data into train and test sets\n",
    "X_train = train_df[numeric_columns]\n",
    "y_train = train_df['is_fraud']\n",
    "X_test = test_df[numeric_columns]\n",
    "y_test = test_df['is_fraud']"
   ]
  },
  {
   "cell_type": "code",
   "execution_count": 51,
   "id": "922f7b7f",
   "metadata": {},
   "outputs": [
    {
     "name": "stdout",
     "output_type": "stream",
     "text": [
      "Requirement already satisfied: xgboost in c:\\users\\admin\\anaconda3\\lib\\site-packages (1.7.6)\n",
      "Requirement already satisfied: numpy in c:\\users\\admin\\anaconda3\\lib\\site-packages (from xgboost) (1.21.5)\n",
      "Requirement already satisfied: scipy in c:\\users\\admin\\anaconda3\\lib\\site-packages (from xgboost) (1.7.3)\n"
     ]
    }
   ],
   "source": [
    "!pip install xgboost\n"
   ]
  },
  {
   "cell_type": "code",
   "execution_count": 52,
   "id": "b93acf30",
   "metadata": {},
   "outputs": [],
   "source": [
    "from sklearn.naive_bayes import GaussianNB\n",
    "from sklearn.ensemble import RandomForestClassifier\n",
    "from xgboost import XGBClassifier\n"
   ]
  },
  {
   "cell_type": "code",
   "execution_count": 53,
   "id": "3740b1cb",
   "metadata": {},
   "outputs": [],
   "source": [
    "# Initialize classifiers\n",
    "classifiers = {\n",
    "    'Naive Bayes': GaussianNB(),\n",
    "    'Logistic Regression': LogisticRegression(),\n",
    "    'Random Forest': RandomForestClassifier(),\n",
    "    'XGBoost': XGBClassifier()\n",
    "}"
   ]
  },
  {
   "cell_type": "code",
   "execution_count": 54,
   "id": "52dd67d9",
   "metadata": {},
   "outputs": [],
   "source": [
    "from sklearn.metrics import accuracy_score, precision_score, recall_score, f1_score\n"
   ]
  },
  {
   "cell_type": "code",
   "execution_count": 55,
   "id": "0722ef9d",
   "metadata": {},
   "outputs": [
    {
     "name": "stdout",
     "output_type": "stream",
     "text": [
      "Training Naive Bayes classifier...\n",
      "Training Logistic Regression classifier...\n"
     ]
    },
    {
     "name": "stderr",
     "output_type": "stream",
     "text": [
      "C:\\Users\\ADMIN\\anaconda3\\lib\\site-packages\\sklearn\\metrics\\_classification.py:1318: UndefinedMetricWarning: Precision is ill-defined and being set to 0.0 due to no predicted samples. Use `zero_division` parameter to control this behavior.\n",
      "  _warn_prf(average, modifier, msg_start, len(result))\n"
     ]
    },
    {
     "name": "stdout",
     "output_type": "stream",
     "text": [
      "Training Random Forest classifier...\n",
      "Training XGBoost classifier...\n"
     ]
    }
   ],
   "source": [
    "# Training and evaluating classifiers\n",
    "for name, classifier in classifiers.items():\n",
    "    print(f\"Training {name} classifier...\")\n",
    "    classifier.fit(X_train, y_train)\n",
    "    \n",
    "    # Make predictions on the test data\n",
    "    predictions = classifier.predict(X_test)\n",
    "    \n",
    "    # Evaluate the classifier\n",
    "    accuracy = accuracy_score(y_test, predictions)\n",
    "    precision = precision_score(y_test, predictions)\n",
    "    recall = recall_score(y_test, predictions)\n",
    "    f1 = f1_score(y_test, predictions)"
   ]
  },
  {
   "cell_type": "code",
   "execution_count": 56,
   "id": "2ab35b57",
   "metadata": {},
   "outputs": [
    {
     "name": "stdout",
     "output_type": "stream",
     "text": [
      "XGBoost Classifier:\n",
      "Accuracy: 1.0000\n",
      "Precision: 1.0000\n",
      "Recall: 1.0000\n",
      "F1 Score: 1.0000\n",
      "========================================\n"
     ]
    }
   ],
   "source": [
    "print(f\"{name} Classifier:\")\n",
    "print(f\"Accuracy: {accuracy:.4f}\")\n",
    "print(f\"Precision: {precision:.4f}\")\n",
    "print(f\"Recall: {recall:.4f}\")\n",
    "print(f\"F1 Score: {f1:.4f}\")\n",
    "print(\"=\"*40)"
   ]
  },
  {
   "cell_type": "code",
   "execution_count": null,
   "id": "5e85d86b",
   "metadata": {},
   "outputs": [],
   "source": []
  },
  {
   "cell_type": "code",
   "execution_count": null,
   "id": "998b3e84",
   "metadata": {},
   "outputs": [],
   "source": []
  }
 ],
 "metadata": {
  "kernelspec": {
   "display_name": "Python 3 (ipykernel)",
   "language": "python",
   "name": "python3"
  },
  "language_info": {
   "codemirror_mode": {
    "name": "ipython",
    "version": 3
   },
   "file_extension": ".py",
   "mimetype": "text/x-python",
   "name": "python",
   "nbconvert_exporter": "python",
   "pygments_lexer": "ipython3",
   "version": "3.9.12"
  }
 },
 "nbformat": 4,
 "nbformat_minor": 5
}
